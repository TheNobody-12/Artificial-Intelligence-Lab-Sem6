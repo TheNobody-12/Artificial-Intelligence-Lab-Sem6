{
 "cells": [
  {
   "attachments": {},
   "cell_type": "markdown",
   "metadata": {},
   "source": [
    "# Breadth First Search<br>\n",
    "It is used to scan level wise element. \n",
    "\n",
    "## properties of BFS\n",
    "1. Completeness: It is complete which means if the shallowest goal node is at some finite,then BFS will find solution\n",
    "2. Time Complexity: b^d\n",
    "3. Space Complexity: b^d\n",
    "4. Optimal: BFS is optimal if path is a non decreasing function of the depth of the node\n",
    "\n"
   ]
  },
  {
   "cell_type": "markdown",
   "metadata": {},
   "source": []
  },
  {
   "cell_type": "code",
   "execution_count": 2,
   "metadata": {},
   "outputs": [],
   "source": [
    "graph = {\n",
    "    'A':['B','C','D'],\n",
    "    'B':['A','E','F'],\n",
    "    'C':['G','H'],\n",
    "    'D':['A','I'],\n",
    "    'E':['B','J','K'],\n",
    "    'F':['B'],\n",
    "    'G':['L'],\n",
    "    'H':['K'],\n",
    "    'I':['D','M'],\n",
    "    'J':['E'],\n",
    "    'K':['E','N'],\n",
    "    'L':['G'],\n",
    "    'M':['I'],\n",
    "    'N':['K']\n",
    " }\n",
    "start = 'A'\n",
    "end = 'G'\n"
   ]
  },
  {
   "cell_type": "code",
   "execution_count": 3,
   "metadata": {},
   "outputs": [
    {
     "ename": "NameError",
     "evalue": "name '_name_' is not defined",
     "output_type": "error",
     "traceback": [
      "\u001b[1;31m---------------------------------------------------------------------------\u001b[0m",
      "\u001b[1;31mNameError\u001b[0m                                 Traceback (most recent call last)",
      "Cell \u001b[1;32mIn[3], line 28\u001b[0m\n\u001b[0;32m     25\u001b[0m             visited\u001b[39m.\u001b[39madd(node)\n\u001b[0;32m     27\u001b[0m     \u001b[39mreturn\u001b[39;00m \u001b[39m\"\u001b[39m\u001b[39mNo path found\u001b[39m\u001b[39m\"\u001b[39m\n\u001b[1;32m---> 28\u001b[0m \u001b[39mif\u001b[39;00m _name_ \u001b[39m==\u001b[39m \u001b[39m\"\u001b[39m\u001b[39m_main_\u001b[39m\u001b[39m\"\u001b[39m:\n\u001b[0;32m     29\u001b[0m     graph \u001b[39m=\u001b[39m {\n\u001b[0;32m     30\u001b[0m         \u001b[39m\"\u001b[39m\u001b[39mA\u001b[39m\u001b[39m\"\u001b[39m: [\u001b[39m\"\u001b[39m\u001b[39mB\u001b[39m\u001b[39m\"\u001b[39m, \u001b[39m\"\u001b[39m\u001b[39mC\u001b[39m\u001b[39m\"\u001b[39m],\n\u001b[0;32m     31\u001b[0m         \u001b[39m\"\u001b[39m\u001b[39mB\u001b[39m\u001b[39m\"\u001b[39m: [\u001b[39m\"\u001b[39m\u001b[39mD\u001b[39m\u001b[39m\"\u001b[39m, \u001b[39m\"\u001b[39m\u001b[39mE\u001b[39m\u001b[39m\"\u001b[39m],\n\u001b[1;32m   (...)\u001b[0m\n\u001b[0;32m     35\u001b[0m         \u001b[39m\"\u001b[39m\u001b[39mF\u001b[39m\u001b[39m\"\u001b[39m: []\n\u001b[0;32m     36\u001b[0m     }\n\u001b[0;32m     38\u001b[0m     \u001b[39mprint\u001b[39m(BFS(graph,\u001b[39m\"\u001b[39m\u001b[39mA\u001b[39m\u001b[39m\"\u001b[39m,\u001b[39m\"\u001b[39m\u001b[39mF\u001b[39m\u001b[39m\"\u001b[39m))\n",
      "\u001b[1;31mNameError\u001b[0m: name '_name_' is not defined"
     ]
    }
   ],
   "source": [
    "# BFS algorithm\n",
    "\n",
    "from collections import deque\n",
    "\n",
    "def BFS(graph, start, end):\n",
    "    queue = deque()\n",
    "    queue.append([start])\n",
    "    visited = set()\n",
    "\n",
    "    while queue:\n",
    "        path = queue.popleft()\n",
    "        node = path[-1]\n",
    "\n",
    "        if node not in visited:\n",
    "            neighbours = graph[node]\n",
    "\n",
    "            for neighbour in neighbours:\n",
    "                new_path = list(path)\n",
    "                new_path.append(neighbour)\n",
    "                queue.append(new_path)\n",
    "\n",
    "                if neighbour == end:\n",
    "                    return new_path\n",
    "\n",
    "            visited.add(node)\n",
    "\n",
    "    return \"No path found\"\n",
    "if _name_ == \"_main_\":\n",
    "    graph = {\n",
    "        \"A\": [\"B\", \"C\"],\n",
    "        \"B\": [\"D\", \"E\"],\n",
    "        \"C\": [\"F\"],\n",
    "        \"D\":[],\n",
    "        \"E\": [\"F\"],\n",
    "        \"F\": []\n",
    "    }\n",
    "\n",
    "    print(BFS(graph,\"A\",\"F\"))"
   ]
  },
  {
   "cell_type": "code",
   "execution_count": 16,
   "metadata": {},
   "outputs": [
    {
     "ename": "RecursionError",
     "evalue": "maximum recursion depth exceeded",
     "output_type": "error",
     "traceback": [
      "\u001b[1;31m---------------------------------------------------------------------------\u001b[0m",
      "\u001b[1;31mRecursionError\u001b[0m                            Traceback (most recent call last)",
      "Cell \u001b[1;32mIn[16], line 17\u001b[0m\n\u001b[0;32m     14\u001b[0m                 \u001b[39mpass\u001b[39;00m\n\u001b[0;32m     15\u001b[0m     \u001b[39mreturn\u001b[39;00m p\n\u001b[1;32m---> 17\u001b[0m p \u001b[39m=\u001b[39m bfs(graph,start,end)\n\u001b[0;32m     18\u001b[0m \u001b[39mprint\u001b[39m(p)                \n",
      "Cell \u001b[1;32mIn[16], line 12\u001b[0m, in \u001b[0;36mbfs\u001b[1;34m(graph, start, end)\u001b[0m\n\u001b[0;32m     10\u001b[0m \u001b[39melse\u001b[39;00m:\n\u001b[0;32m     11\u001b[0m     \u001b[39mif\u001b[39;00m node \u001b[39mnot\u001b[39;00m \u001b[39min\u001b[39;00m p:\n\u001b[1;32m---> 12\u001b[0m         bfs(graph,node,end)\n\u001b[0;32m     13\u001b[0m     \u001b[39melse\u001b[39;00m:\n\u001b[0;32m     14\u001b[0m         \u001b[39mpass\u001b[39;00m\n",
      "Cell \u001b[1;32mIn[16], line 12\u001b[0m, in \u001b[0;36mbfs\u001b[1;34m(graph, start, end)\u001b[0m\n\u001b[0;32m     10\u001b[0m \u001b[39melse\u001b[39;00m:\n\u001b[0;32m     11\u001b[0m     \u001b[39mif\u001b[39;00m node \u001b[39mnot\u001b[39;00m \u001b[39min\u001b[39;00m p:\n\u001b[1;32m---> 12\u001b[0m         bfs(graph,node,end)\n\u001b[0;32m     13\u001b[0m     \u001b[39melse\u001b[39;00m:\n\u001b[0;32m     14\u001b[0m         \u001b[39mpass\u001b[39;00m\n",
      "    \u001b[1;31m[... skipping similar frames: bfs at line 12 (2971 times)]\u001b[0m\n",
      "Cell \u001b[1;32mIn[16], line 12\u001b[0m, in \u001b[0;36mbfs\u001b[1;34m(graph, start, end)\u001b[0m\n\u001b[0;32m     10\u001b[0m \u001b[39melse\u001b[39;00m:\n\u001b[0;32m     11\u001b[0m     \u001b[39mif\u001b[39;00m node \u001b[39mnot\u001b[39;00m \u001b[39min\u001b[39;00m p:\n\u001b[1;32m---> 12\u001b[0m         bfs(graph,node,end)\n\u001b[0;32m     13\u001b[0m     \u001b[39melse\u001b[39;00m:\n\u001b[0;32m     14\u001b[0m         \u001b[39mpass\u001b[39;00m\n",
      "\u001b[1;31mRecursionError\u001b[0m: maximum recursion depth exceeded"
     ]
    }
   ],
   "source": [
    "#BFS\n",
    "# Path: Experiment2.ipynb\n",
    "\n",
    "def bfs(Graph,start,goal):\n",
    "    explored = []\n",
    "    queue = [[start]]\n",
    "    if start == goal:\n",
    "        print(\"Same Node\")\n",
    "        return\n",
    "    while queue:\n",
    "        path = queue.pop(0)\n",
    "        node = path[-1]\n",
    "        if node not in explored:\n",
    "            neighbours = Graph[node]\n",
    "            for neighbour in neighbours:\n",
    "                new_path = list(path)\n",
    "                new_path.append(neighbour)\n",
    "                queue.append(new_path)\n",
    "                if neighbour == goal:\n",
    "                    print(\"Shortest path = \",*new_path)\n",
    "                    return\n",
    "            explored.append(node)\n",
    "    print(\"So sorry, but a connecting path doesn't exist :(\")\n",
    "    return  "
   ]
  },
  {
   "cell_type": "code",
   "execution_count": null,
   "metadata": {},
   "outputs": [],
   "source": []
  }
 ],
 "metadata": {
  "kernelspec": {
   "display_name": "Python 3",
   "language": "python",
   "name": "python3"
  },
  "language_info": {
   "codemirror_mode": {
    "name": "ipython",
    "version": 3
   },
   "file_extension": ".py",
   "mimetype": "text/x-python",
   "name": "python",
   "nbconvert_exporter": "python",
   "pygments_lexer": "ipython3",
   "version": "3.10.9 (tags/v3.10.9:1dd9be6, Dec  6 2022, 20:01:21) [MSC v.1934 64 bit (AMD64)]"
  },
  "orig_nbformat": 4,
  "vscode": {
   "interpreter": {
    "hash": "f2ccb58c476f33ba3e3aee7ac07234ef6b8217ef24ad64d2a7d4fed1a57c1cd2"
   }
  }
 },
 "nbformat": 4,
 "nbformat_minor": 2
}
