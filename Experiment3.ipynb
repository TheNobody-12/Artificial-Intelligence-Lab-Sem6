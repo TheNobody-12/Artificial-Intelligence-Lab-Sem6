{
 "cells": [
  {
   "attachments": {},
   "cell_type": "markdown",
   "metadata": {},
   "source": [
    "# 2 jugs problem"
   ]
  },
  {
   "attachments": {},
   "cell_type": "markdown",
   "metadata": {},
   "source": [
    " Jug has 3 operation \n",
    "\n",
    " Refill,Empty,Transfer "
   ]
  },
  {
   "cell_type": "code",
   "execution_count": 1,
   "metadata": {},
   "outputs": [],
   "source": [
    "# def Refill(node):\n",
    "#     if node[0] == 0:\n",
    "#         node[0] = 5\n",
    "#     elif node[1] == 0:\n",
    "#         node[1] = 4\n",
    "#     return node\n",
    "# def Empty(node):\n",
    "#     if node[0] == 4:\n",
    "#         node[0] = 0\n",
    "#     elif node[1] == 4:\n",
    "#         node[1] = 0\n",
    "#     return node\n",
    "# def Transfer(node):\n",
    "#     # any one jug is zero and one full\n",
    "#     if node[0] == 0 and node[1]==4:\n",
    "#         if node[1]<=5:\n",
    "#             node[0],node[1]= node[1],node[0]\n",
    "#         else:\n",
    "#             node[0],node[1]= 5,node[1]-5\n",
    "#     elif node[0] == 5 and node[1] == 0:\n",
    "#         if node[0]<=4:\n",
    "#             node[0],node[1]= node[1],node[0]\n",
    "#         else:\n",
    "#             node[0],node[1]= node[0]-4,4\n",
    "#     # now both are different\n",
    "#     elif node[0] == 0 and node[1] != 4:\n",
    "#         if node[1]<=5:\n",
    "#             node[0],node[1]= node[1],node[0]\n",
    "#         else:\n",
    "#             node[0],node[1]= 5,node[1]-5\n",
    "#     elif node[0] != 5 and node[1] == 0:\n",
    "#         if node[0]<=4:\n",
    "#             node[0],node[1]= node[1],node[0]\n",
    "#         else:\n",
    "#             node[0],node[1]= node[0]-4,4\n",
    "#     return node   \n",
    "\n",
    "\n"
   ]
  },
  {
   "cell_type": "code",
   "execution_count": null,
   "metadata": {},
   "outputs": [],
   "source": []
  },
  {
   "cell_type": "code",
   "execution_count": 4,
   "metadata": {},
   "outputs": [
    {
     "name": "stdout",
     "output_type": "stream",
     "text": [
      "[[0, 0]]\n"
     ]
    }
   ],
   "source": [
    "jg1 =5\n",
    "jg2 =4\n",
    "s = [0,0]\n",
    "g = [2,0]\n",
    "current = []\n",
    "childs = []\n",
    "visited = []\n",
    "current.append(s)\n",
    "visited.append(s)\n",
    "while current:\n",
    "    node = \n"
   ]
  },
  {
   "cell_type": "code",
   "execution_count": null,
   "metadata": {},
   "outputs": [],
   "source": []
  }
 ],
 "metadata": {
  "kernelspec": {
   "display_name": "Python 3",
   "language": "python",
   "name": "python3"
  },
  "language_info": {
   "codemirror_mode": {
    "name": "ipython",
    "version": 3
   },
   "file_extension": ".py",
   "mimetype": "text/x-python",
   "name": "python",
   "nbconvert_exporter": "python",
   "pygments_lexer": "ipython3",
   "version": "3.10.9"
  },
  "orig_nbformat": 4,
  "vscode": {
   "interpreter": {
    "hash": "f2ccb58c476f33ba3e3aee7ac07234ef6b8217ef24ad64d2a7d4fed1a57c1cd2"
   }
  }
 },
 "nbformat": 4,
 "nbformat_minor": 2
}
