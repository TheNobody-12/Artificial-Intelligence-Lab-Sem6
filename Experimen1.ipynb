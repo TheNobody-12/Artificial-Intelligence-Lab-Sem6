{
 "cells": [
  {
   "attachments": {},
   "cell_type": "markdown",
   "metadata": {
    "slideshow": {
     "slide_type": "notes"
    }
   },
   "source": [
    "# Searching Algorithm Terminologies\n",
    "\n",
    "Search is a steo by step procedure to solve a seaarch problem in a given soace.\n",
    "- Search Space \n",
    "- Start State\n",
    "- Goal test\n",
    "\n",
    "Actions \\n\n",
    "Transition Model\n",
    "Completeness:  a search a is said to be complete if it guarantees to return a solution if at least any solution exist for any random input.\n",
    "\n",
    "Optimality\n",
    "Time complexity\n",
    "Space Complexity\n",
    "Systematicity"
   ]
  },
  {
   "attachments": {},
   "cell_type": "markdown",
   "metadata": {},
   "source": [
    "Depth First Search"
   ]
  },
  {
   "attachments": {},
   "cell_type": "markdown",
   "metadata": {
    "slideshow": {
     "slide_type": "slide"
    }
   },
   "source": [
    "Psuedo code<br>\n",
    "dfs(v):<br>\n",
    "    if (v==g)<br>\n",
    "        return (path)<br>\n",
    "    else<br>\n",
    "        mark v as visited<br>\n",
    "        store v into the path<br>\n",
    "        for all adj_vertex(av) of v<br>\n",
    "            if( av is not visited)<br>\n",
    "                dfs(av)<br>\n",
    "        if (all node of av is visited)<br>\n",
    "            POP(av)<br>\n",
    "            `"
   ]
  },
  {
   "cell_type": "code",
   "execution_count": 10,
   "metadata": {},
   "outputs": [
    {
     "name": "stdout",
     "output_type": "stream",
     "text": [
      "['A', 'E', 'D', 'C', 'B', 'H', 'G']\n"
     ]
    }
   ],
   "source": [
    "# DFS\n",
    "graph = { 'A' : ['E','B', 'G'],'E':['A','D','F'],'B':['A','H','G','F','C'],'G':['A','B'],'F':['E','B'],'D':['C','E'],'C':['B','H','D'],'H':['B','C']}\n",
    "start = 'A'\n",
    "goal = 'G'\n",
    "visited= {'A':False,'B':False,'C':False,'D':False,'E':False,'F':False,'G':False,'H':False}\n",
    "path = []\n",
    "def dfs(graph, start, goal, visited, path):\n",
    "    visited[start] = True\n",
    "    path.append(start)\n",
    "    if start == goal:\n",
    "        print(path)\n",
    "    else:\n",
    "        for node in graph[start]:\n",
    "            if node not in path:\n",
    "                dfs(graph,node,goal,visited,path)\n",
    "            else:\n",
    "                pass\n",
    "\n",
    "dfs(graph,start,goal,visited,path)"
   ]
  },
  {
   "cell_type": "code",
   "execution_count": 11,
   "metadata": {},
   "outputs": [
    {
     "name": "stdout",
     "output_type": "stream",
     "text": [
      "['H', 'A', 'D', 'F', 'B', 'C', 'E']\n"
     ]
    }
   ],
   "source": [
    "g1 = {'A':['D','B'],'B':['F','C'],'C':['E','G','H'],'D':['F'],'E':['F','B'],'F':['A'],'G':['E','F'],'H':['A']}\n",
    "start = 'H'\n",
    "goal = 'E'\n",
    "visited= {'A':False,'B':False,'C':False,'D':False,',E':False,'F':False,'G':False,'H':False}\n",
    "path = []\n",
    "dfs(g1,start,goal,visited,path)"
   ]
  },
  {
   "cell_type": "code",
   "execution_count": null,
   "metadata": {},
   "outputs": [],
   "source": []
  }
 ],
 "metadata": {
  "kernelspec": {
   "display_name": "Python 3",
   "language": "python",
   "name": "python3"
  },
  "language_info": {
   "codemirror_mode": {
    "name": "ipython",
    "version": 3
   },
   "file_extension": ".py",
   "mimetype": "text/x-python",
   "name": "python",
   "nbconvert_exporter": "python",
   "pygments_lexer": "ipython3",
   "version": "3.11.1"
  },
  "orig_nbformat": 4,
  "vscode": {
   "interpreter": {
    "hash": "108095e740c160118120ad5e22811b4aca9f414a6f3c55c969835bc2c10848d1"
   }
  }
 },
 "nbformat": 4,
 "nbformat_minor": 2
}
