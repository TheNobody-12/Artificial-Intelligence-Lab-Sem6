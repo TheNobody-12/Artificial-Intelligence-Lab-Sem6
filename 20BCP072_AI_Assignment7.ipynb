{
  "nbformat": 4,
  "nbformat_minor": 0,
  "metadata": {
    "colab": {
      "provenance": []
    },
    "kernelspec": {
      "name": "python3",
      "display_name": "Python 3"
    },
    "language_info": {
      "name": "python"
    }
  },
  "cells": [
    {
      "cell_type": "markdown",
      "source": [
        "**Perceptron Model**\n",
        "\n",
        "\n",
        "---\n",
        "\n"
      ],
      "metadata": {
        "id": "Q_HNUBJDEFZM"
      }
    },
    {
      "cell_type": "code",
      "source": [
        "# Using Kaggle to upload data\n",
        "! mkdir ~/.kaggle\n",
        "! cp kaggle.json ~/.kaggle/\n",
        "! chmod 600 ~/.kaggle/kaggle.json\n",
        "! kaggle datasets list\n",
        "! kaggle datasets download -d uciml/indian-liver-patient-records\n",
        "!unzip indian-liver-patient-records.zip\n"
      ],
      "metadata": {
        "colab": {
          "base_uri": "https://localhost:8080/"
        },
        "id": "WKVJnaIa4Yun",
        "outputId": "becc086a-c53d-4158-9027-06e54e6e1d92"
      },
      "execution_count": 1,
      "outputs": [
        {
          "output_type": "stream",
          "name": "stdout",
          "text": [
            "Warning: Looks like you're using an outdated API Version, please consider updating (server 1.5.13 / client 1.5.12)\n",
            "ref                                                        title                                        size  lastUpdated          downloadCount  voteCount  usabilityRating  \n",
            "---------------------------------------------------------  ------------------------------------------  -----  -------------------  -------------  ---------  ---------------  \n",
            "themrityunjaypathak/covid-cases-and-deaths-worldwide       Covid Cases and Deaths WorldWide              8KB  2023-02-01 12:22:51           8579        277  1.0              \n",
            "datascientistanna/customers-dataset                        Shop Customer Data                           23KB  2023-02-07 18:42:21           6934        163  1.0              \n",
            "amaanansari09/top-100-songs                                Top 100 songs                                 6KB  2023-02-16 18:55:35           2051         70  1.0              \n",
            "justin2028/unemployment-in-america-per-us-state            Unemployment in America, Per US State       826KB  2023-03-02 07:26:03            399         29  1.0              \n",
            "anas123siddiqui/mobiles                                    Mobiles                                      59KB  2023-02-18 16:37:24           1013         27  1.0              \n",
            "thedevastator/airbnb-prices-in-european-cities             Airbnb Prices in European Cities              4MB  2023-02-20 09:48:04           2189         48  1.0              \n",
            "nikhilmahajan29/crop-production-statistics-india           Crop Production Statistics - India            3MB  2023-02-28 18:45:13            636         31  1.0              \n",
            "rajugc/imdb-top-250-movies-dataset                         IMDB Top 250 Movies Dataset                  52KB  2023-02-11 16:02:01           3054         72  1.0              \n",
            "karkavelrajaj/amazon-sales-dataset                         Amazon Sales Dataset                          2MB  2023-01-17 06:21:15           9454        142  1.0              \n",
            "ulrikthygepedersen/mushroom-attributes                     Mushroom Attributes                          58KB  2023-02-10 08:58:02            687         23  1.0              \n",
            "rajkumarpandey02/countries-by-carbon-dioxide-emissions     Countries by Carbon Dioxide Emissions.        7KB  2023-02-25 17:51:36            679         29  1.0              \n",
            "shrikrishnaparab/forbes-billionaires-and-companies-2022    Forbes Billionaires and Companies 2022      735KB  2023-02-17 06:15:43            566         22  1.0              \n",
            "niraliivaghani/chatbot-dataset                             Chatbot dataset                               5KB  2023-02-19 05:49:34            760         28  1.0              \n",
            "thedevastator/bigmart-product-sales-factors                BigMart Product Sales Factors               367KB  2023-02-10 10:36:55            784         23  0.88235295       \n",
            "validmodel/amazon-top-cell-phones-and-accessories-qa       Amazon Top cell Phones and Accessories QA     7MB  2023-03-05 12:27:43            452         24  1.0              \n",
            "warcoder/earthquake-dataset                                Earthquake dataset                           35KB  2023-02-26 09:59:04            494         27  1.0              \n",
            "belayethossainds/the-worlds-billionaires-dataset-19872022  The World's Billionaires Dataset 1987~2022    5KB  2023-02-23 07:14:19            420         26  0.9411765        \n",
            "thedevastator/domestic-food-prices-after-covid-19          Domestic Food Prices After COVID-19           1MB  2023-02-13 01:45:15           2135         43  1.0              \n",
            "warcoder/dog-breeds-details                                Dog breeds details                            3KB  2023-03-02 14:01:08            498         25  0.9411765        \n",
            "dansbecker/melbourne-housing-snapshot                      Melbourne Housing Snapshot                  451KB  2018-06-05 12:52:24         108716       1218  0.7058824        \n",
            "Downloading indian-liver-patient-records.zip to /content\n",
            "  0% 0.00/7.68k [00:00<?, ?B/s]\n",
            "100% 7.68k/7.68k [00:00<00:00, 6.16MB/s]\n",
            "Archive:  indian-liver-patient-records.zip\n",
            "  inflating: indian_liver_patient.csv  \n"
          ]
        }
      ]
    },
    {
      "cell_type": "code",
      "execution_count": 2,
      "metadata": {
        "id": "8ARDQGE5ECaQ"
      },
      "outputs": [],
      "source": [
        "import numpy as np\n",
        "import pandas as pd\n",
        "import matplotlib.pyplot as plt\n",
        "from sklearn.metrics import accuracy_score , classification_report"
      ]
    },
    {
      "cell_type": "code",
      "source": [
        "data = pd.read_csv(\"/content/indian_liver_patient.csv\")\n",
        "data.head()"
      ],
      "metadata": {
        "colab": {
          "base_uri": "https://localhost:8080/",
          "height": 270
        },
        "id": "wx4VBuPmEWLN",
        "outputId": "8adb2eab-2431-45d8-944f-0d02f966aece"
      },
      "execution_count": 3,
      "outputs": [
        {
          "output_type": "execute_result",
          "data": {
            "text/plain": [
              "   Age  Gender  Total_Bilirubin  Direct_Bilirubin  Alkaline_Phosphotase  \\\n",
              "0   65  Female              0.7               0.1                   187   \n",
              "1   62    Male             10.9               5.5                   699   \n",
              "2   62    Male              7.3               4.1                   490   \n",
              "3   58    Male              1.0               0.4                   182   \n",
              "4   72    Male              3.9               2.0                   195   \n",
              "\n",
              "   Alamine_Aminotransferase  Aspartate_Aminotransferase  Total_Protiens  \\\n",
              "0                        16                          18             6.8   \n",
              "1                        64                         100             7.5   \n",
              "2                        60                          68             7.0   \n",
              "3                        14                          20             6.8   \n",
              "4                        27                          59             7.3   \n",
              "\n",
              "   Albumin  Albumin_and_Globulin_Ratio  Dataset  \n",
              "0      3.3                        0.90        1  \n",
              "1      3.2                        0.74        1  \n",
              "2      3.3                        0.89        1  \n",
              "3      3.4                        1.00        1  \n",
              "4      2.4                        0.40        1  "
            ],
            "text/html": [
              "\n",
              "  <div id=\"df-4e808093-2944-4c7b-ab93-c5243c994d60\">\n",
              "    <div class=\"colab-df-container\">\n",
              "      <div>\n",
              "<style scoped>\n",
              "    .dataframe tbody tr th:only-of-type {\n",
              "        vertical-align: middle;\n",
              "    }\n",
              "\n",
              "    .dataframe tbody tr th {\n",
              "        vertical-align: top;\n",
              "    }\n",
              "\n",
              "    .dataframe thead th {\n",
              "        text-align: right;\n",
              "    }\n",
              "</style>\n",
              "<table border=\"1\" class=\"dataframe\">\n",
              "  <thead>\n",
              "    <tr style=\"text-align: right;\">\n",
              "      <th></th>\n",
              "      <th>Age</th>\n",
              "      <th>Gender</th>\n",
              "      <th>Total_Bilirubin</th>\n",
              "      <th>Direct_Bilirubin</th>\n",
              "      <th>Alkaline_Phosphotase</th>\n",
              "      <th>Alamine_Aminotransferase</th>\n",
              "      <th>Aspartate_Aminotransferase</th>\n",
              "      <th>Total_Protiens</th>\n",
              "      <th>Albumin</th>\n",
              "      <th>Albumin_and_Globulin_Ratio</th>\n",
              "      <th>Dataset</th>\n",
              "    </tr>\n",
              "  </thead>\n",
              "  <tbody>\n",
              "    <tr>\n",
              "      <th>0</th>\n",
              "      <td>65</td>\n",
              "      <td>Female</td>\n",
              "      <td>0.7</td>\n",
              "      <td>0.1</td>\n",
              "      <td>187</td>\n",
              "      <td>16</td>\n",
              "      <td>18</td>\n",
              "      <td>6.8</td>\n",
              "      <td>3.3</td>\n",
              "      <td>0.90</td>\n",
              "      <td>1</td>\n",
              "    </tr>\n",
              "    <tr>\n",
              "      <th>1</th>\n",
              "      <td>62</td>\n",
              "      <td>Male</td>\n",
              "      <td>10.9</td>\n",
              "      <td>5.5</td>\n",
              "      <td>699</td>\n",
              "      <td>64</td>\n",
              "      <td>100</td>\n",
              "      <td>7.5</td>\n",
              "      <td>3.2</td>\n",
              "      <td>0.74</td>\n",
              "      <td>1</td>\n",
              "    </tr>\n",
              "    <tr>\n",
              "      <th>2</th>\n",
              "      <td>62</td>\n",
              "      <td>Male</td>\n",
              "      <td>7.3</td>\n",
              "      <td>4.1</td>\n",
              "      <td>490</td>\n",
              "      <td>60</td>\n",
              "      <td>68</td>\n",
              "      <td>7.0</td>\n",
              "      <td>3.3</td>\n",
              "      <td>0.89</td>\n",
              "      <td>1</td>\n",
              "    </tr>\n",
              "    <tr>\n",
              "      <th>3</th>\n",
              "      <td>58</td>\n",
              "      <td>Male</td>\n",
              "      <td>1.0</td>\n",
              "      <td>0.4</td>\n",
              "      <td>182</td>\n",
              "      <td>14</td>\n",
              "      <td>20</td>\n",
              "      <td>6.8</td>\n",
              "      <td>3.4</td>\n",
              "      <td>1.00</td>\n",
              "      <td>1</td>\n",
              "    </tr>\n",
              "    <tr>\n",
              "      <th>4</th>\n",
              "      <td>72</td>\n",
              "      <td>Male</td>\n",
              "      <td>3.9</td>\n",
              "      <td>2.0</td>\n",
              "      <td>195</td>\n",
              "      <td>27</td>\n",
              "      <td>59</td>\n",
              "      <td>7.3</td>\n",
              "      <td>2.4</td>\n",
              "      <td>0.40</td>\n",
              "      <td>1</td>\n",
              "    </tr>\n",
              "  </tbody>\n",
              "</table>\n",
              "</div>\n",
              "      <button class=\"colab-df-convert\" onclick=\"convertToInteractive('df-4e808093-2944-4c7b-ab93-c5243c994d60')\"\n",
              "              title=\"Convert this dataframe to an interactive table.\"\n",
              "              style=\"display:none;\">\n",
              "        \n",
              "  <svg xmlns=\"http://www.w3.org/2000/svg\" height=\"24px\"viewBox=\"0 0 24 24\"\n",
              "       width=\"24px\">\n",
              "    <path d=\"M0 0h24v24H0V0z\" fill=\"none\"/>\n",
              "    <path d=\"M18.56 5.44l.94 2.06.94-2.06 2.06-.94-2.06-.94-.94-2.06-.94 2.06-2.06.94zm-11 1L8.5 8.5l.94-2.06 2.06-.94-2.06-.94L8.5 2.5l-.94 2.06-2.06.94zm10 10l.94 2.06.94-2.06 2.06-.94-2.06-.94-.94-2.06-.94 2.06-2.06.94z\"/><path d=\"M17.41 7.96l-1.37-1.37c-.4-.4-.92-.59-1.43-.59-.52 0-1.04.2-1.43.59L10.3 9.45l-7.72 7.72c-.78.78-.78 2.05 0 2.83L4 21.41c.39.39.9.59 1.41.59.51 0 1.02-.2 1.41-.59l7.78-7.78 2.81-2.81c.8-.78.8-2.07 0-2.86zM5.41 20L4 18.59l7.72-7.72 1.47 1.35L5.41 20z\"/>\n",
              "  </svg>\n",
              "      </button>\n",
              "      \n",
              "  <style>\n",
              "    .colab-df-container {\n",
              "      display:flex;\n",
              "      flex-wrap:wrap;\n",
              "      gap: 12px;\n",
              "    }\n",
              "\n",
              "    .colab-df-convert {\n",
              "      background-color: #E8F0FE;\n",
              "      border: none;\n",
              "      border-radius: 50%;\n",
              "      cursor: pointer;\n",
              "      display: none;\n",
              "      fill: #1967D2;\n",
              "      height: 32px;\n",
              "      padding: 0 0 0 0;\n",
              "      width: 32px;\n",
              "    }\n",
              "\n",
              "    .colab-df-convert:hover {\n",
              "      background-color: #E2EBFA;\n",
              "      box-shadow: 0px 1px 2px rgba(60, 64, 67, 0.3), 0px 1px 3px 1px rgba(60, 64, 67, 0.15);\n",
              "      fill: #174EA6;\n",
              "    }\n",
              "\n",
              "    [theme=dark] .colab-df-convert {\n",
              "      background-color: #3B4455;\n",
              "      fill: #D2E3FC;\n",
              "    }\n",
              "\n",
              "    [theme=dark] .colab-df-convert:hover {\n",
              "      background-color: #434B5C;\n",
              "      box-shadow: 0px 1px 3px 1px rgba(0, 0, 0, 0.15);\n",
              "      filter: drop-shadow(0px 1px 2px rgba(0, 0, 0, 0.3));\n",
              "      fill: #FFFFFF;\n",
              "    }\n",
              "  </style>\n",
              "\n",
              "      <script>\n",
              "        const buttonEl =\n",
              "          document.querySelector('#df-4e808093-2944-4c7b-ab93-c5243c994d60 button.colab-df-convert');\n",
              "        buttonEl.style.display =\n",
              "          google.colab.kernel.accessAllowed ? 'block' : 'none';\n",
              "\n",
              "        async function convertToInteractive(key) {\n",
              "          const element = document.querySelector('#df-4e808093-2944-4c7b-ab93-c5243c994d60');\n",
              "          const dataTable =\n",
              "            await google.colab.kernel.invokeFunction('convertToInteractive',\n",
              "                                                     [key], {});\n",
              "          if (!dataTable) return;\n",
              "\n",
              "          const docLinkHtml = 'Like what you see? Visit the ' +\n",
              "            '<a target=\"_blank\" href=https://colab.research.google.com/notebooks/data_table.ipynb>data table notebook</a>'\n",
              "            + ' to learn more about interactive tables.';\n",
              "          element.innerHTML = '';\n",
              "          dataTable['output_type'] = 'display_data';\n",
              "          await google.colab.output.renderOutput(dataTable, element);\n",
              "          const docLink = document.createElement('div');\n",
              "          docLink.innerHTML = docLinkHtml;\n",
              "          element.appendChild(docLink);\n",
              "        }\n",
              "      </script>\n",
              "    </div>\n",
              "  </div>\n",
              "  "
            ]
          },
          "metadata": {},
          "execution_count": 3
        }
      ]
    },
    {
      "cell_type": "code",
      "source": [
        "np.unique(data['Dataset'])"
      ],
      "metadata": {
        "colab": {
          "base_uri": "https://localhost:8080/"
        },
        "id": "PTN4Wt6a47Ul",
        "outputId": "b90ff34c-a056-45d6-f929-e6ceafaa4602"
      },
      "execution_count": 4,
      "outputs": [
        {
          "output_type": "execute_result",
          "data": {
            "text/plain": [
              "array([1, 2])"
            ]
          },
          "metadata": {},
          "execution_count": 4
        }
      ]
    },
    {
      "cell_type": "code",
      "source": [
        "data['Gender'] = data['Gender'].map({'Male': 1, 'Female': 2})"
      ],
      "metadata": {
        "id": "p4x4SasT5WBH"
      },
      "execution_count": 5,
      "outputs": []
    },
    {
      "cell_type": "code",
      "source": [
        "data.head()"
      ],
      "metadata": {
        "colab": {
          "base_uri": "https://localhost:8080/",
          "height": 270
        },
        "id": "aB7V0RtQ5upg",
        "outputId": "cb849f37-98e6-43af-ae95-11ff59482636"
      },
      "execution_count": 6,
      "outputs": [
        {
          "output_type": "execute_result",
          "data": {
            "text/plain": [
              "   Age  Gender  Total_Bilirubin  Direct_Bilirubin  Alkaline_Phosphotase  \\\n",
              "0   65       2              0.7               0.1                   187   \n",
              "1   62       1             10.9               5.5                   699   \n",
              "2   62       1              7.3               4.1                   490   \n",
              "3   58       1              1.0               0.4                   182   \n",
              "4   72       1              3.9               2.0                   195   \n",
              "\n",
              "   Alamine_Aminotransferase  Aspartate_Aminotransferase  Total_Protiens  \\\n",
              "0                        16                          18             6.8   \n",
              "1                        64                         100             7.5   \n",
              "2                        60                          68             7.0   \n",
              "3                        14                          20             6.8   \n",
              "4                        27                          59             7.3   \n",
              "\n",
              "   Albumin  Albumin_and_Globulin_Ratio  Dataset  \n",
              "0      3.3                        0.90        1  \n",
              "1      3.2                        0.74        1  \n",
              "2      3.3                        0.89        1  \n",
              "3      3.4                        1.00        1  \n",
              "4      2.4                        0.40        1  "
            ],
            "text/html": [
              "\n",
              "  <div id=\"df-4cc1b9b4-a3ab-4896-9fd8-8734243e954d\">\n",
              "    <div class=\"colab-df-container\">\n",
              "      <div>\n",
              "<style scoped>\n",
              "    .dataframe tbody tr th:only-of-type {\n",
              "        vertical-align: middle;\n",
              "    }\n",
              "\n",
              "    .dataframe tbody tr th {\n",
              "        vertical-align: top;\n",
              "    }\n",
              "\n",
              "    .dataframe thead th {\n",
              "        text-align: right;\n",
              "    }\n",
              "</style>\n",
              "<table border=\"1\" class=\"dataframe\">\n",
              "  <thead>\n",
              "    <tr style=\"text-align: right;\">\n",
              "      <th></th>\n",
              "      <th>Age</th>\n",
              "      <th>Gender</th>\n",
              "      <th>Total_Bilirubin</th>\n",
              "      <th>Direct_Bilirubin</th>\n",
              "      <th>Alkaline_Phosphotase</th>\n",
              "      <th>Alamine_Aminotransferase</th>\n",
              "      <th>Aspartate_Aminotransferase</th>\n",
              "      <th>Total_Protiens</th>\n",
              "      <th>Albumin</th>\n",
              "      <th>Albumin_and_Globulin_Ratio</th>\n",
              "      <th>Dataset</th>\n",
              "    </tr>\n",
              "  </thead>\n",
              "  <tbody>\n",
              "    <tr>\n",
              "      <th>0</th>\n",
              "      <td>65</td>\n",
              "      <td>2</td>\n",
              "      <td>0.7</td>\n",
              "      <td>0.1</td>\n",
              "      <td>187</td>\n",
              "      <td>16</td>\n",
              "      <td>18</td>\n",
              "      <td>6.8</td>\n",
              "      <td>3.3</td>\n",
              "      <td>0.90</td>\n",
              "      <td>1</td>\n",
              "    </tr>\n",
              "    <tr>\n",
              "      <th>1</th>\n",
              "      <td>62</td>\n",
              "      <td>1</td>\n",
              "      <td>10.9</td>\n",
              "      <td>5.5</td>\n",
              "      <td>699</td>\n",
              "      <td>64</td>\n",
              "      <td>100</td>\n",
              "      <td>7.5</td>\n",
              "      <td>3.2</td>\n",
              "      <td>0.74</td>\n",
              "      <td>1</td>\n",
              "    </tr>\n",
              "    <tr>\n",
              "      <th>2</th>\n",
              "      <td>62</td>\n",
              "      <td>1</td>\n",
              "      <td>7.3</td>\n",
              "      <td>4.1</td>\n",
              "      <td>490</td>\n",
              "      <td>60</td>\n",
              "      <td>68</td>\n",
              "      <td>7.0</td>\n",
              "      <td>3.3</td>\n",
              "      <td>0.89</td>\n",
              "      <td>1</td>\n",
              "    </tr>\n",
              "    <tr>\n",
              "      <th>3</th>\n",
              "      <td>58</td>\n",
              "      <td>1</td>\n",
              "      <td>1.0</td>\n",
              "      <td>0.4</td>\n",
              "      <td>182</td>\n",
              "      <td>14</td>\n",
              "      <td>20</td>\n",
              "      <td>6.8</td>\n",
              "      <td>3.4</td>\n",
              "      <td>1.00</td>\n",
              "      <td>1</td>\n",
              "    </tr>\n",
              "    <tr>\n",
              "      <th>4</th>\n",
              "      <td>72</td>\n",
              "      <td>1</td>\n",
              "      <td>3.9</td>\n",
              "      <td>2.0</td>\n",
              "      <td>195</td>\n",
              "      <td>27</td>\n",
              "      <td>59</td>\n",
              "      <td>7.3</td>\n",
              "      <td>2.4</td>\n",
              "      <td>0.40</td>\n",
              "      <td>1</td>\n",
              "    </tr>\n",
              "  </tbody>\n",
              "</table>\n",
              "</div>\n",
              "      <button class=\"colab-df-convert\" onclick=\"convertToInteractive('df-4cc1b9b4-a3ab-4896-9fd8-8734243e954d')\"\n",
              "              title=\"Convert this dataframe to an interactive table.\"\n",
              "              style=\"display:none;\">\n",
              "        \n",
              "  <svg xmlns=\"http://www.w3.org/2000/svg\" height=\"24px\"viewBox=\"0 0 24 24\"\n",
              "       width=\"24px\">\n",
              "    <path d=\"M0 0h24v24H0V0z\" fill=\"none\"/>\n",
              "    <path d=\"M18.56 5.44l.94 2.06.94-2.06 2.06-.94-2.06-.94-.94-2.06-.94 2.06-2.06.94zm-11 1L8.5 8.5l.94-2.06 2.06-.94-2.06-.94L8.5 2.5l-.94 2.06-2.06.94zm10 10l.94 2.06.94-2.06 2.06-.94-2.06-.94-.94-2.06-.94 2.06-2.06.94z\"/><path d=\"M17.41 7.96l-1.37-1.37c-.4-.4-.92-.59-1.43-.59-.52 0-1.04.2-1.43.59L10.3 9.45l-7.72 7.72c-.78.78-.78 2.05 0 2.83L4 21.41c.39.39.9.59 1.41.59.51 0 1.02-.2 1.41-.59l7.78-7.78 2.81-2.81c.8-.78.8-2.07 0-2.86zM5.41 20L4 18.59l7.72-7.72 1.47 1.35L5.41 20z\"/>\n",
              "  </svg>\n",
              "      </button>\n",
              "      \n",
              "  <style>\n",
              "    .colab-df-container {\n",
              "      display:flex;\n",
              "      flex-wrap:wrap;\n",
              "      gap: 12px;\n",
              "    }\n",
              "\n",
              "    .colab-df-convert {\n",
              "      background-color: #E8F0FE;\n",
              "      border: none;\n",
              "      border-radius: 50%;\n",
              "      cursor: pointer;\n",
              "      display: none;\n",
              "      fill: #1967D2;\n",
              "      height: 32px;\n",
              "      padding: 0 0 0 0;\n",
              "      width: 32px;\n",
              "    }\n",
              "\n",
              "    .colab-df-convert:hover {\n",
              "      background-color: #E2EBFA;\n",
              "      box-shadow: 0px 1px 2px rgba(60, 64, 67, 0.3), 0px 1px 3px 1px rgba(60, 64, 67, 0.15);\n",
              "      fill: #174EA6;\n",
              "    }\n",
              "\n",
              "    [theme=dark] .colab-df-convert {\n",
              "      background-color: #3B4455;\n",
              "      fill: #D2E3FC;\n",
              "    }\n",
              "\n",
              "    [theme=dark] .colab-df-convert:hover {\n",
              "      background-color: #434B5C;\n",
              "      box-shadow: 0px 1px 3px 1px rgba(0, 0, 0, 0.15);\n",
              "      filter: drop-shadow(0px 1px 2px rgba(0, 0, 0, 0.3));\n",
              "      fill: #FFFFFF;\n",
              "    }\n",
              "  </style>\n",
              "\n",
              "      <script>\n",
              "        const buttonEl =\n",
              "          document.querySelector('#df-4cc1b9b4-a3ab-4896-9fd8-8734243e954d button.colab-df-convert');\n",
              "        buttonEl.style.display =\n",
              "          google.colab.kernel.accessAllowed ? 'block' : 'none';\n",
              "\n",
              "        async function convertToInteractive(key) {\n",
              "          const element = document.querySelector('#df-4cc1b9b4-a3ab-4896-9fd8-8734243e954d');\n",
              "          const dataTable =\n",
              "            await google.colab.kernel.invokeFunction('convertToInteractive',\n",
              "                                                     [key], {});\n",
              "          if (!dataTable) return;\n",
              "\n",
              "          const docLinkHtml = 'Like what you see? Visit the ' +\n",
              "            '<a target=\"_blank\" href=https://colab.research.google.com/notebooks/data_table.ipynb>data table notebook</a>'\n",
              "            + ' to learn more about interactive tables.';\n",
              "          element.innerHTML = '';\n",
              "          dataTable['output_type'] = 'display_data';\n",
              "          await google.colab.output.renderOutput(dataTable, element);\n",
              "          const docLink = document.createElement('div');\n",
              "          docLink.innerHTML = docLinkHtml;\n",
              "          element.appendChild(docLink);\n",
              "        }\n",
              "      </script>\n",
              "    </div>\n",
              "  </div>\n",
              "  "
            ]
          },
          "metadata": {},
          "execution_count": 6
        }
      ]
    },
    {
      "cell_type": "code",
      "source": [
        "data = data.dropna()"
      ],
      "metadata": {
        "id": "Xpl6ArRw7h2i"
      },
      "execution_count": 7,
      "outputs": []
    },
    {
      "cell_type": "code",
      "source": [
        "data.isna().sum()"
      ],
      "metadata": {
        "colab": {
          "base_uri": "https://localhost:8080/"
        },
        "id": "5JCWgi5S7OHI",
        "outputId": "5abef4e6-ea55-4381-a213-736ede5688d7"
      },
      "execution_count": 8,
      "outputs": [
        {
          "output_type": "execute_result",
          "data": {
            "text/plain": [
              "Age                           0\n",
              "Gender                        0\n",
              "Total_Bilirubin               0\n",
              "Direct_Bilirubin              0\n",
              "Alkaline_Phosphotase          0\n",
              "Alamine_Aminotransferase      0\n",
              "Aspartate_Aminotransferase    0\n",
              "Total_Protiens                0\n",
              "Albumin                       0\n",
              "Albumin_and_Globulin_Ratio    0\n",
              "Dataset                       0\n",
              "dtype: int64"
            ]
          },
          "metadata": {},
          "execution_count": 8
        }
      ]
    },
    {
      "cell_type": "code",
      "source": [
        "x=data.drop('Dataset',axis=1)\n",
        "y=data['Dataset']"
      ],
      "metadata": {
        "id": "ZubDEZU4EnZM"
      },
      "execution_count": 15,
      "outputs": []
    },
    {
      "cell_type": "code",
      "source": [
        "from sklearn.model_selection import train_test_split\n",
        "xtrain,xtest,ytrain,ytest = train_test_split(x,y,random_state=0,stratify=y)"
      ],
      "metadata": {
        "id": "1Tl7THQPEwFx"
      },
      "execution_count": 23,
      "outputs": []
    },
    {
      "cell_type": "code",
      "source": [
        "xtrain=xtrain.values\n",
        "xtest=xtest.values"
      ],
      "metadata": {
        "id": "XA1gnSTZFCQF"
      },
      "execution_count": 24,
      "outputs": []
    },
    {
      "cell_type": "code",
      "source": [
        "class Perceptron:\n",
        "  def __init__(self):\n",
        "    self.w=None\n",
        "    self.b=None\n",
        "\n",
        "  def model(self,x):\n",
        "    return 1 if (np.dot(self.w,x)>=self.b) else 2\n",
        "\n",
        "  def predict(self,x):\n",
        "    y=[]\n",
        "    for X in x:\n",
        "      res=self.model(X)\n",
        "      y.append(res)\n",
        "    return np.array(y)\n",
        "\n",
        "  def fit(self,x,y,epoches,lr):\n",
        "    self.w = np.ones(x.shape[1])\n",
        "    self.b = 0\n",
        "    accuracy={}\n",
        "    max_acc=0\n",
        "\n",
        "    for i in range(epoches):\n",
        "      for X,Y in zip(x,y):\n",
        "        y_pred = self.model(X)\n",
        "        if Y==1 and y_pred ==0:\n",
        "          self.w=self.w+(lr*X)\n",
        "          self.b=self.b-lr * 1\n",
        "        elif Y==0 and y_pred ==1:\n",
        "          self.w=self.w-(lr*X)\n",
        "          self.b=self.b+lr * 1\n",
        "      accuracy[i] = accuracy_score(self.predict(x),y)\n",
        "      if(accuracy[i]>max_acc):\n",
        "        max_acc=accuracy[i]\n",
        "    print(accuracy)\n",
        "    print(max_acc)"
      ],
      "metadata": {
        "id": "5AQX8ZRLLlnU"
      },
      "execution_count": 25,
      "outputs": []
    },
    {
      "cell_type": "code",
      "source": [
        "modelx = Perceptron()\n",
        "modelx.fit(xtrain,ytrain,1000,0.0001)"
      ],
      "metadata": {
        "colab": {
          "base_uri": "https://localhost:8080/"
        },
        "id": "9qMA5b4uLlql",
        "outputId": "6dbb57f5-917b-4a3d-ccb3-1a1e1bb153ba"
      },
      "execution_count": 26,
      "outputs": [
        {
          "output_type": "stream",
          "name": "stdout",
          "text": [
            "{0: 0.7142857142857143, 1: 0.7142857142857143, 2: 0.7142857142857143, 3: 0.7142857142857143, 4: 0.7142857142857143, 5: 0.7142857142857143, 6: 0.7142857142857143, 7: 0.7142857142857143, 8: 0.7142857142857143, 9: 0.7142857142857143, 10: 0.7142857142857143, 11: 0.7142857142857143, 12: 0.7142857142857143, 13: 0.7142857142857143, 14: 0.7142857142857143, 15: 0.7142857142857143, 16: 0.7142857142857143, 17: 0.7142857142857143, 18: 0.7142857142857143, 19: 0.7142857142857143, 20: 0.7142857142857143, 21: 0.7142857142857143, 22: 0.7142857142857143, 23: 0.7142857142857143, 24: 0.7142857142857143, 25: 0.7142857142857143, 26: 0.7142857142857143, 27: 0.7142857142857143, 28: 0.7142857142857143, 29: 0.7142857142857143, 30: 0.7142857142857143, 31: 0.7142857142857143, 32: 0.7142857142857143, 33: 0.7142857142857143, 34: 0.7142857142857143, 35: 0.7142857142857143, 36: 0.7142857142857143, 37: 0.7142857142857143, 38: 0.7142857142857143, 39: 0.7142857142857143, 40: 0.7142857142857143, 41: 0.7142857142857143, 42: 0.7142857142857143, 43: 0.7142857142857143, 44: 0.7142857142857143, 45: 0.7142857142857143, 46: 0.7142857142857143, 47: 0.7142857142857143, 48: 0.7142857142857143, 49: 0.7142857142857143, 50: 0.7142857142857143, 51: 0.7142857142857143, 52: 0.7142857142857143, 53: 0.7142857142857143, 54: 0.7142857142857143, 55: 0.7142857142857143, 56: 0.7142857142857143, 57: 0.7142857142857143, 58: 0.7142857142857143, 59: 0.7142857142857143, 60: 0.7142857142857143, 61: 0.7142857142857143, 62: 0.7142857142857143, 63: 0.7142857142857143, 64: 0.7142857142857143, 65: 0.7142857142857143, 66: 0.7142857142857143, 67: 0.7142857142857143, 68: 0.7142857142857143, 69: 0.7142857142857143, 70: 0.7142857142857143, 71: 0.7142857142857143, 72: 0.7142857142857143, 73: 0.7142857142857143, 74: 0.7142857142857143, 75: 0.7142857142857143, 76: 0.7142857142857143, 77: 0.7142857142857143, 78: 0.7142857142857143, 79: 0.7142857142857143, 80: 0.7142857142857143, 81: 0.7142857142857143, 82: 0.7142857142857143, 83: 0.7142857142857143, 84: 0.7142857142857143, 85: 0.7142857142857143, 86: 0.7142857142857143, 87: 0.7142857142857143, 88: 0.7142857142857143, 89: 0.7142857142857143, 90: 0.7142857142857143, 91: 0.7142857142857143, 92: 0.7142857142857143, 93: 0.7142857142857143, 94: 0.7142857142857143, 95: 0.7142857142857143, 96: 0.7142857142857143, 97: 0.7142857142857143, 98: 0.7142857142857143, 99: 0.7142857142857143, 100: 0.7142857142857143, 101: 0.7142857142857143, 102: 0.7142857142857143, 103: 0.7142857142857143, 104: 0.7142857142857143, 105: 0.7142857142857143, 106: 0.7142857142857143, 107: 0.7142857142857143, 108: 0.7142857142857143, 109: 0.7142857142857143, 110: 0.7142857142857143, 111: 0.7142857142857143, 112: 0.7142857142857143, 113: 0.7142857142857143, 114: 0.7142857142857143, 115: 0.7142857142857143, 116: 0.7142857142857143, 117: 0.7142857142857143, 118: 0.7142857142857143, 119: 0.7142857142857143, 120: 0.7142857142857143, 121: 0.7142857142857143, 122: 0.7142857142857143, 123: 0.7142857142857143, 124: 0.7142857142857143, 125: 0.7142857142857143, 126: 0.7142857142857143, 127: 0.7142857142857143, 128: 0.7142857142857143, 129: 0.7142857142857143, 130: 0.7142857142857143, 131: 0.7142857142857143, 132: 0.7142857142857143, 133: 0.7142857142857143, 134: 0.7142857142857143, 135: 0.7142857142857143, 136: 0.7142857142857143, 137: 0.7142857142857143, 138: 0.7142857142857143, 139: 0.7142857142857143, 140: 0.7142857142857143, 141: 0.7142857142857143, 142: 0.7142857142857143, 143: 0.7142857142857143, 144: 0.7142857142857143, 145: 0.7142857142857143, 146: 0.7142857142857143, 147: 0.7142857142857143, 148: 0.7142857142857143, 149: 0.7142857142857143, 150: 0.7142857142857143, 151: 0.7142857142857143, 152: 0.7142857142857143, 153: 0.7142857142857143, 154: 0.7142857142857143, 155: 0.7142857142857143, 156: 0.7142857142857143, 157: 0.7142857142857143, 158: 0.7142857142857143, 159: 0.7142857142857143, 160: 0.7142857142857143, 161: 0.7142857142857143, 162: 0.7142857142857143, 163: 0.7142857142857143, 164: 0.7142857142857143, 165: 0.7142857142857143, 166: 0.7142857142857143, 167: 0.7142857142857143, 168: 0.7142857142857143, 169: 0.7142857142857143, 170: 0.7142857142857143, 171: 0.7142857142857143, 172: 0.7142857142857143, 173: 0.7142857142857143, 174: 0.7142857142857143, 175: 0.7142857142857143, 176: 0.7142857142857143, 177: 0.7142857142857143, 178: 0.7142857142857143, 179: 0.7142857142857143, 180: 0.7142857142857143, 181: 0.7142857142857143, 182: 0.7142857142857143, 183: 0.7142857142857143, 184: 0.7142857142857143, 185: 0.7142857142857143, 186: 0.7142857142857143, 187: 0.7142857142857143, 188: 0.7142857142857143, 189: 0.7142857142857143, 190: 0.7142857142857143, 191: 0.7142857142857143, 192: 0.7142857142857143, 193: 0.7142857142857143, 194: 0.7142857142857143, 195: 0.7142857142857143, 196: 0.7142857142857143, 197: 0.7142857142857143, 198: 0.7142857142857143, 199: 0.7142857142857143, 200: 0.7142857142857143, 201: 0.7142857142857143, 202: 0.7142857142857143, 203: 0.7142857142857143, 204: 0.7142857142857143, 205: 0.7142857142857143, 206: 0.7142857142857143, 207: 0.7142857142857143, 208: 0.7142857142857143, 209: 0.7142857142857143, 210: 0.7142857142857143, 211: 0.7142857142857143, 212: 0.7142857142857143, 213: 0.7142857142857143, 214: 0.7142857142857143, 215: 0.7142857142857143, 216: 0.7142857142857143, 217: 0.7142857142857143, 218: 0.7142857142857143, 219: 0.7142857142857143, 220: 0.7142857142857143, 221: 0.7142857142857143, 222: 0.7142857142857143, 223: 0.7142857142857143, 224: 0.7142857142857143, 225: 0.7142857142857143, 226: 0.7142857142857143, 227: 0.7142857142857143, 228: 0.7142857142857143, 229: 0.7142857142857143, 230: 0.7142857142857143, 231: 0.7142857142857143, 232: 0.7142857142857143, 233: 0.7142857142857143, 234: 0.7142857142857143, 235: 0.7142857142857143, 236: 0.7142857142857143, 237: 0.7142857142857143, 238: 0.7142857142857143, 239: 0.7142857142857143, 240: 0.7142857142857143, 241: 0.7142857142857143, 242: 0.7142857142857143, 243: 0.7142857142857143, 244: 0.7142857142857143, 245: 0.7142857142857143, 246: 0.7142857142857143, 247: 0.7142857142857143, 248: 0.7142857142857143, 249: 0.7142857142857143, 250: 0.7142857142857143, 251: 0.7142857142857143, 252: 0.7142857142857143, 253: 0.7142857142857143, 254: 0.7142857142857143, 255: 0.7142857142857143, 256: 0.7142857142857143, 257: 0.7142857142857143, 258: 0.7142857142857143, 259: 0.7142857142857143, 260: 0.7142857142857143, 261: 0.7142857142857143, 262: 0.7142857142857143, 263: 0.7142857142857143, 264: 0.7142857142857143, 265: 0.7142857142857143, 266: 0.7142857142857143, 267: 0.7142857142857143, 268: 0.7142857142857143, 269: 0.7142857142857143, 270: 0.7142857142857143, 271: 0.7142857142857143, 272: 0.7142857142857143, 273: 0.7142857142857143, 274: 0.7142857142857143, 275: 0.7142857142857143, 276: 0.7142857142857143, 277: 0.7142857142857143, 278: 0.7142857142857143, 279: 0.7142857142857143, 280: 0.7142857142857143, 281: 0.7142857142857143, 282: 0.7142857142857143, 283: 0.7142857142857143, 284: 0.7142857142857143, 285: 0.7142857142857143, 286: 0.7142857142857143, 287: 0.7142857142857143, 288: 0.7142857142857143, 289: 0.7142857142857143, 290: 0.7142857142857143, 291: 0.7142857142857143, 292: 0.7142857142857143, 293: 0.7142857142857143, 294: 0.7142857142857143, 295: 0.7142857142857143, 296: 0.7142857142857143, 297: 0.7142857142857143, 298: 0.7142857142857143, 299: 0.7142857142857143, 300: 0.7142857142857143, 301: 0.7142857142857143, 302: 0.7142857142857143, 303: 0.7142857142857143, 304: 0.7142857142857143, 305: 0.7142857142857143, 306: 0.7142857142857143, 307: 0.7142857142857143, 308: 0.7142857142857143, 309: 0.7142857142857143, 310: 0.7142857142857143, 311: 0.7142857142857143, 312: 0.7142857142857143, 313: 0.7142857142857143, 314: 0.7142857142857143, 315: 0.7142857142857143, 316: 0.7142857142857143, 317: 0.7142857142857143, 318: 0.7142857142857143, 319: 0.7142857142857143, 320: 0.7142857142857143, 321: 0.7142857142857143, 322: 0.7142857142857143, 323: 0.7142857142857143, 324: 0.7142857142857143, 325: 0.7142857142857143, 326: 0.7142857142857143, 327: 0.7142857142857143, 328: 0.7142857142857143, 329: 0.7142857142857143, 330: 0.7142857142857143, 331: 0.7142857142857143, 332: 0.7142857142857143, 333: 0.7142857142857143, 334: 0.7142857142857143, 335: 0.7142857142857143, 336: 0.7142857142857143, 337: 0.7142857142857143, 338: 0.7142857142857143, 339: 0.7142857142857143, 340: 0.7142857142857143, 341: 0.7142857142857143, 342: 0.7142857142857143, 343: 0.7142857142857143, 344: 0.7142857142857143, 345: 0.7142857142857143, 346: 0.7142857142857143, 347: 0.7142857142857143, 348: 0.7142857142857143, 349: 0.7142857142857143, 350: 0.7142857142857143, 351: 0.7142857142857143, 352: 0.7142857142857143, 353: 0.7142857142857143, 354: 0.7142857142857143, 355: 0.7142857142857143, 356: 0.7142857142857143, 357: 0.7142857142857143, 358: 0.7142857142857143, 359: 0.7142857142857143, 360: 0.7142857142857143, 361: 0.7142857142857143, 362: 0.7142857142857143, 363: 0.7142857142857143, 364: 0.7142857142857143, 365: 0.7142857142857143, 366: 0.7142857142857143, 367: 0.7142857142857143, 368: 0.7142857142857143, 369: 0.7142857142857143, 370: 0.7142857142857143, 371: 0.7142857142857143, 372: 0.7142857142857143, 373: 0.7142857142857143, 374: 0.7142857142857143, 375: 0.7142857142857143, 376: 0.7142857142857143, 377: 0.7142857142857143, 378: 0.7142857142857143, 379: 0.7142857142857143, 380: 0.7142857142857143, 381: 0.7142857142857143, 382: 0.7142857142857143, 383: 0.7142857142857143, 384: 0.7142857142857143, 385: 0.7142857142857143, 386: 0.7142857142857143, 387: 0.7142857142857143, 388: 0.7142857142857143, 389: 0.7142857142857143, 390: 0.7142857142857143, 391: 0.7142857142857143, 392: 0.7142857142857143, 393: 0.7142857142857143, 394: 0.7142857142857143, 395: 0.7142857142857143, 396: 0.7142857142857143, 397: 0.7142857142857143, 398: 0.7142857142857143, 399: 0.7142857142857143, 400: 0.7142857142857143, 401: 0.7142857142857143, 402: 0.7142857142857143, 403: 0.7142857142857143, 404: 0.7142857142857143, 405: 0.7142857142857143, 406: 0.7142857142857143, 407: 0.7142857142857143, 408: 0.7142857142857143, 409: 0.7142857142857143, 410: 0.7142857142857143, 411: 0.7142857142857143, 412: 0.7142857142857143, 413: 0.7142857142857143, 414: 0.7142857142857143, 415: 0.7142857142857143, 416: 0.7142857142857143, 417: 0.7142857142857143, 418: 0.7142857142857143, 419: 0.7142857142857143, 420: 0.7142857142857143, 421: 0.7142857142857143, 422: 0.7142857142857143, 423: 0.7142857142857143, 424: 0.7142857142857143, 425: 0.7142857142857143, 426: 0.7142857142857143, 427: 0.7142857142857143, 428: 0.7142857142857143, 429: 0.7142857142857143, 430: 0.7142857142857143, 431: 0.7142857142857143, 432: 0.7142857142857143, 433: 0.7142857142857143, 434: 0.7142857142857143, 435: 0.7142857142857143, 436: 0.7142857142857143, 437: 0.7142857142857143, 438: 0.7142857142857143, 439: 0.7142857142857143, 440: 0.7142857142857143, 441: 0.7142857142857143, 442: 0.7142857142857143, 443: 0.7142857142857143, 444: 0.7142857142857143, 445: 0.7142857142857143, 446: 0.7142857142857143, 447: 0.7142857142857143, 448: 0.7142857142857143, 449: 0.7142857142857143, 450: 0.7142857142857143, 451: 0.7142857142857143, 452: 0.7142857142857143, 453: 0.7142857142857143, 454: 0.7142857142857143, 455: 0.7142857142857143, 456: 0.7142857142857143, 457: 0.7142857142857143, 458: 0.7142857142857143, 459: 0.7142857142857143, 460: 0.7142857142857143, 461: 0.7142857142857143, 462: 0.7142857142857143, 463: 0.7142857142857143, 464: 0.7142857142857143, 465: 0.7142857142857143, 466: 0.7142857142857143, 467: 0.7142857142857143, 468: 0.7142857142857143, 469: 0.7142857142857143, 470: 0.7142857142857143, 471: 0.7142857142857143, 472: 0.7142857142857143, 473: 0.7142857142857143, 474: 0.7142857142857143, 475: 0.7142857142857143, 476: 0.7142857142857143, 477: 0.7142857142857143, 478: 0.7142857142857143, 479: 0.7142857142857143, 480: 0.7142857142857143, 481: 0.7142857142857143, 482: 0.7142857142857143, 483: 0.7142857142857143, 484: 0.7142857142857143, 485: 0.7142857142857143, 486: 0.7142857142857143, 487: 0.7142857142857143, 488: 0.7142857142857143, 489: 0.7142857142857143, 490: 0.7142857142857143, 491: 0.7142857142857143, 492: 0.7142857142857143, 493: 0.7142857142857143, 494: 0.7142857142857143, 495: 0.7142857142857143, 496: 0.7142857142857143, 497: 0.7142857142857143, 498: 0.7142857142857143, 499: 0.7142857142857143, 500: 0.7142857142857143, 501: 0.7142857142857143, 502: 0.7142857142857143, 503: 0.7142857142857143, 504: 0.7142857142857143, 505: 0.7142857142857143, 506: 0.7142857142857143, 507: 0.7142857142857143, 508: 0.7142857142857143, 509: 0.7142857142857143, 510: 0.7142857142857143, 511: 0.7142857142857143, 512: 0.7142857142857143, 513: 0.7142857142857143, 514: 0.7142857142857143, 515: 0.7142857142857143, 516: 0.7142857142857143, 517: 0.7142857142857143, 518: 0.7142857142857143, 519: 0.7142857142857143, 520: 0.7142857142857143, 521: 0.7142857142857143, 522: 0.7142857142857143, 523: 0.7142857142857143, 524: 0.7142857142857143, 525: 0.7142857142857143, 526: 0.7142857142857143, 527: 0.7142857142857143, 528: 0.7142857142857143, 529: 0.7142857142857143, 530: 0.7142857142857143, 531: 0.7142857142857143, 532: 0.7142857142857143, 533: 0.7142857142857143, 534: 0.7142857142857143, 535: 0.7142857142857143, 536: 0.7142857142857143, 537: 0.7142857142857143, 538: 0.7142857142857143, 539: 0.7142857142857143, 540: 0.7142857142857143, 541: 0.7142857142857143, 542: 0.7142857142857143, 543: 0.7142857142857143, 544: 0.7142857142857143, 545: 0.7142857142857143, 546: 0.7142857142857143, 547: 0.7142857142857143, 548: 0.7142857142857143, 549: 0.7142857142857143, 550: 0.7142857142857143, 551: 0.7142857142857143, 552: 0.7142857142857143, 553: 0.7142857142857143, 554: 0.7142857142857143, 555: 0.7142857142857143, 556: 0.7142857142857143, 557: 0.7142857142857143, 558: 0.7142857142857143, 559: 0.7142857142857143, 560: 0.7142857142857143, 561: 0.7142857142857143, 562: 0.7142857142857143, 563: 0.7142857142857143, 564: 0.7142857142857143, 565: 0.7142857142857143, 566: 0.7142857142857143, 567: 0.7142857142857143, 568: 0.7142857142857143, 569: 0.7142857142857143, 570: 0.7142857142857143, 571: 0.7142857142857143, 572: 0.7142857142857143, 573: 0.7142857142857143, 574: 0.7142857142857143, 575: 0.7142857142857143, 576: 0.7142857142857143, 577: 0.7142857142857143, 578: 0.7142857142857143, 579: 0.7142857142857143, 580: 0.7142857142857143, 581: 0.7142857142857143, 582: 0.7142857142857143, 583: 0.7142857142857143, 584: 0.7142857142857143, 585: 0.7142857142857143, 586: 0.7142857142857143, 587: 0.7142857142857143, 588: 0.7142857142857143, 589: 0.7142857142857143, 590: 0.7142857142857143, 591: 0.7142857142857143, 592: 0.7142857142857143, 593: 0.7142857142857143, 594: 0.7142857142857143, 595: 0.7142857142857143, 596: 0.7142857142857143, 597: 0.7142857142857143, 598: 0.7142857142857143, 599: 0.7142857142857143, 600: 0.7142857142857143, 601: 0.7142857142857143, 602: 0.7142857142857143, 603: 0.7142857142857143, 604: 0.7142857142857143, 605: 0.7142857142857143, 606: 0.7142857142857143, 607: 0.7142857142857143, 608: 0.7142857142857143, 609: 0.7142857142857143, 610: 0.7142857142857143, 611: 0.7142857142857143, 612: 0.7142857142857143, 613: 0.7142857142857143, 614: 0.7142857142857143, 615: 0.7142857142857143, 616: 0.7142857142857143, 617: 0.7142857142857143, 618: 0.7142857142857143, 619: 0.7142857142857143, 620: 0.7142857142857143, 621: 0.7142857142857143, 622: 0.7142857142857143, 623: 0.7142857142857143, 624: 0.7142857142857143, 625: 0.7142857142857143, 626: 0.7142857142857143, 627: 0.7142857142857143, 628: 0.7142857142857143, 629: 0.7142857142857143, 630: 0.7142857142857143, 631: 0.7142857142857143, 632: 0.7142857142857143, 633: 0.7142857142857143, 634: 0.7142857142857143, 635: 0.7142857142857143, 636: 0.7142857142857143, 637: 0.7142857142857143, 638: 0.7142857142857143, 639: 0.7142857142857143, 640: 0.7142857142857143, 641: 0.7142857142857143, 642: 0.7142857142857143, 643: 0.7142857142857143, 644: 0.7142857142857143, 645: 0.7142857142857143, 646: 0.7142857142857143, 647: 0.7142857142857143, 648: 0.7142857142857143, 649: 0.7142857142857143, 650: 0.7142857142857143, 651: 0.7142857142857143, 652: 0.7142857142857143, 653: 0.7142857142857143, 654: 0.7142857142857143, 655: 0.7142857142857143, 656: 0.7142857142857143, 657: 0.7142857142857143, 658: 0.7142857142857143, 659: 0.7142857142857143, 660: 0.7142857142857143, 661: 0.7142857142857143, 662: 0.7142857142857143, 663: 0.7142857142857143, 664: 0.7142857142857143, 665: 0.7142857142857143, 666: 0.7142857142857143, 667: 0.7142857142857143, 668: 0.7142857142857143, 669: 0.7142857142857143, 670: 0.7142857142857143, 671: 0.7142857142857143, 672: 0.7142857142857143, 673: 0.7142857142857143, 674: 0.7142857142857143, 675: 0.7142857142857143, 676: 0.7142857142857143, 677: 0.7142857142857143, 678: 0.7142857142857143, 679: 0.7142857142857143, 680: 0.7142857142857143, 681: 0.7142857142857143, 682: 0.7142857142857143, 683: 0.7142857142857143, 684: 0.7142857142857143, 685: 0.7142857142857143, 686: 0.7142857142857143, 687: 0.7142857142857143, 688: 0.7142857142857143, 689: 0.7142857142857143, 690: 0.7142857142857143, 691: 0.7142857142857143, 692: 0.7142857142857143, 693: 0.7142857142857143, 694: 0.7142857142857143, 695: 0.7142857142857143, 696: 0.7142857142857143, 697: 0.7142857142857143, 698: 0.7142857142857143, 699: 0.7142857142857143, 700: 0.7142857142857143, 701: 0.7142857142857143, 702: 0.7142857142857143, 703: 0.7142857142857143, 704: 0.7142857142857143, 705: 0.7142857142857143, 706: 0.7142857142857143, 707: 0.7142857142857143, 708: 0.7142857142857143, 709: 0.7142857142857143, 710: 0.7142857142857143, 711: 0.7142857142857143, 712: 0.7142857142857143, 713: 0.7142857142857143, 714: 0.7142857142857143, 715: 0.7142857142857143, 716: 0.7142857142857143, 717: 0.7142857142857143, 718: 0.7142857142857143, 719: 0.7142857142857143, 720: 0.7142857142857143, 721: 0.7142857142857143, 722: 0.7142857142857143, 723: 0.7142857142857143, 724: 0.7142857142857143, 725: 0.7142857142857143, 726: 0.7142857142857143, 727: 0.7142857142857143, 728: 0.7142857142857143, 729: 0.7142857142857143, 730: 0.7142857142857143, 731: 0.7142857142857143, 732: 0.7142857142857143, 733: 0.7142857142857143, 734: 0.7142857142857143, 735: 0.7142857142857143, 736: 0.7142857142857143, 737: 0.7142857142857143, 738: 0.7142857142857143, 739: 0.7142857142857143, 740: 0.7142857142857143, 741: 0.7142857142857143, 742: 0.7142857142857143, 743: 0.7142857142857143, 744: 0.7142857142857143, 745: 0.7142857142857143, 746: 0.7142857142857143, 747: 0.7142857142857143, 748: 0.7142857142857143, 749: 0.7142857142857143, 750: 0.7142857142857143, 751: 0.7142857142857143, 752: 0.7142857142857143, 753: 0.7142857142857143, 754: 0.7142857142857143, 755: 0.7142857142857143, 756: 0.7142857142857143, 757: 0.7142857142857143, 758: 0.7142857142857143, 759: 0.7142857142857143, 760: 0.7142857142857143, 761: 0.7142857142857143, 762: 0.7142857142857143, 763: 0.7142857142857143, 764: 0.7142857142857143, 765: 0.7142857142857143, 766: 0.7142857142857143, 767: 0.7142857142857143, 768: 0.7142857142857143, 769: 0.7142857142857143, 770: 0.7142857142857143, 771: 0.7142857142857143, 772: 0.7142857142857143, 773: 0.7142857142857143, 774: 0.7142857142857143, 775: 0.7142857142857143, 776: 0.7142857142857143, 777: 0.7142857142857143, 778: 0.7142857142857143, 779: 0.7142857142857143, 780: 0.7142857142857143, 781: 0.7142857142857143, 782: 0.7142857142857143, 783: 0.7142857142857143, 784: 0.7142857142857143, 785: 0.7142857142857143, 786: 0.7142857142857143, 787: 0.7142857142857143, 788: 0.7142857142857143, 789: 0.7142857142857143, 790: 0.7142857142857143, 791: 0.7142857142857143, 792: 0.7142857142857143, 793: 0.7142857142857143, 794: 0.7142857142857143, 795: 0.7142857142857143, 796: 0.7142857142857143, 797: 0.7142857142857143, 798: 0.7142857142857143, 799: 0.7142857142857143, 800: 0.7142857142857143, 801: 0.7142857142857143, 802: 0.7142857142857143, 803: 0.7142857142857143, 804: 0.7142857142857143, 805: 0.7142857142857143, 806: 0.7142857142857143, 807: 0.7142857142857143, 808: 0.7142857142857143, 809: 0.7142857142857143, 810: 0.7142857142857143, 811: 0.7142857142857143, 812: 0.7142857142857143, 813: 0.7142857142857143, 814: 0.7142857142857143, 815: 0.7142857142857143, 816: 0.7142857142857143, 817: 0.7142857142857143, 818: 0.7142857142857143, 819: 0.7142857142857143, 820: 0.7142857142857143, 821: 0.7142857142857143, 822: 0.7142857142857143, 823: 0.7142857142857143, 824: 0.7142857142857143, 825: 0.7142857142857143, 826: 0.7142857142857143, 827: 0.7142857142857143, 828: 0.7142857142857143, 829: 0.7142857142857143, 830: 0.7142857142857143, 831: 0.7142857142857143, 832: 0.7142857142857143, 833: 0.7142857142857143, 834: 0.7142857142857143, 835: 0.7142857142857143, 836: 0.7142857142857143, 837: 0.7142857142857143, 838: 0.7142857142857143, 839: 0.7142857142857143, 840: 0.7142857142857143, 841: 0.7142857142857143, 842: 0.7142857142857143, 843: 0.7142857142857143, 844: 0.7142857142857143, 845: 0.7142857142857143, 846: 0.7142857142857143, 847: 0.7142857142857143, 848: 0.7142857142857143, 849: 0.7142857142857143, 850: 0.7142857142857143, 851: 0.7142857142857143, 852: 0.7142857142857143, 853: 0.7142857142857143, 854: 0.7142857142857143, 855: 0.7142857142857143, 856: 0.7142857142857143, 857: 0.7142857142857143, 858: 0.7142857142857143, 859: 0.7142857142857143, 860: 0.7142857142857143, 861: 0.7142857142857143, 862: 0.7142857142857143, 863: 0.7142857142857143, 864: 0.7142857142857143, 865: 0.7142857142857143, 866: 0.7142857142857143, 867: 0.7142857142857143, 868: 0.7142857142857143, 869: 0.7142857142857143, 870: 0.7142857142857143, 871: 0.7142857142857143, 872: 0.7142857142857143, 873: 0.7142857142857143, 874: 0.7142857142857143, 875: 0.7142857142857143, 876: 0.7142857142857143, 877: 0.7142857142857143, 878: 0.7142857142857143, 879: 0.7142857142857143, 880: 0.7142857142857143, 881: 0.7142857142857143, 882: 0.7142857142857143, 883: 0.7142857142857143, 884: 0.7142857142857143, 885: 0.7142857142857143, 886: 0.7142857142857143, 887: 0.7142857142857143, 888: 0.7142857142857143, 889: 0.7142857142857143, 890: 0.7142857142857143, 891: 0.7142857142857143, 892: 0.7142857142857143, 893: 0.7142857142857143, 894: 0.7142857142857143, 895: 0.7142857142857143, 896: 0.7142857142857143, 897: 0.7142857142857143, 898: 0.7142857142857143, 899: 0.7142857142857143, 900: 0.7142857142857143, 901: 0.7142857142857143, 902: 0.7142857142857143, 903: 0.7142857142857143, 904: 0.7142857142857143, 905: 0.7142857142857143, 906: 0.7142857142857143, 907: 0.7142857142857143, 908: 0.7142857142857143, 909: 0.7142857142857143, 910: 0.7142857142857143, 911: 0.7142857142857143, 912: 0.7142857142857143, 913: 0.7142857142857143, 914: 0.7142857142857143, 915: 0.7142857142857143, 916: 0.7142857142857143, 917: 0.7142857142857143, 918: 0.7142857142857143, 919: 0.7142857142857143, 920: 0.7142857142857143, 921: 0.7142857142857143, 922: 0.7142857142857143, 923: 0.7142857142857143, 924: 0.7142857142857143, 925: 0.7142857142857143, 926: 0.7142857142857143, 927: 0.7142857142857143, 928: 0.7142857142857143, 929: 0.7142857142857143, 930: 0.7142857142857143, 931: 0.7142857142857143, 932: 0.7142857142857143, 933: 0.7142857142857143, 934: 0.7142857142857143, 935: 0.7142857142857143, 936: 0.7142857142857143, 937: 0.7142857142857143, 938: 0.7142857142857143, 939: 0.7142857142857143, 940: 0.7142857142857143, 941: 0.7142857142857143, 942: 0.7142857142857143, 943: 0.7142857142857143, 944: 0.7142857142857143, 945: 0.7142857142857143, 946: 0.7142857142857143, 947: 0.7142857142857143, 948: 0.7142857142857143, 949: 0.7142857142857143, 950: 0.7142857142857143, 951: 0.7142857142857143, 952: 0.7142857142857143, 953: 0.7142857142857143, 954: 0.7142857142857143, 955: 0.7142857142857143, 956: 0.7142857142857143, 957: 0.7142857142857143, 958: 0.7142857142857143, 959: 0.7142857142857143, 960: 0.7142857142857143, 961: 0.7142857142857143, 962: 0.7142857142857143, 963: 0.7142857142857143, 964: 0.7142857142857143, 965: 0.7142857142857143, 966: 0.7142857142857143, 967: 0.7142857142857143, 968: 0.7142857142857143, 969: 0.7142857142857143, 970: 0.7142857142857143, 971: 0.7142857142857143, 972: 0.7142857142857143, 973: 0.7142857142857143, 974: 0.7142857142857143, 975: 0.7142857142857143, 976: 0.7142857142857143, 977: 0.7142857142857143, 978: 0.7142857142857143, 979: 0.7142857142857143, 980: 0.7142857142857143, 981: 0.7142857142857143, 982: 0.7142857142857143, 983: 0.7142857142857143, 984: 0.7142857142857143, 985: 0.7142857142857143, 986: 0.7142857142857143, 987: 0.7142857142857143, 988: 0.7142857142857143, 989: 0.7142857142857143, 990: 0.7142857142857143, 991: 0.7142857142857143, 992: 0.7142857142857143, 993: 0.7142857142857143, 994: 0.7142857142857143, 995: 0.7142857142857143, 996: 0.7142857142857143, 997: 0.7142857142857143, 998: 0.7142857142857143, 999: 0.7142857142857143}\n",
            "0.7142857142857143\n"
          ]
        }
      ]
    },
    {
      "cell_type": "code",
      "source": [
        "accuracy_score(modelx.predict(xtest),ytest)"
      ],
      "metadata": {
        "colab": {
          "base_uri": "https://localhost:8080/"
        },
        "id": "afa0orXiP_Kd",
        "outputId": "c823f4c4-ad70-43e5-ed99-fb39ea157838"
      },
      "execution_count": 27,
      "outputs": [
        {
          "output_type": "execute_result",
          "data": {
            "text/plain": [
              "0.7172413793103448"
            ]
          },
          "metadata": {},
          "execution_count": 27
        }
      ]
    },
    {
      "cell_type": "code",
      "source": [
        "\n"
      ],
      "metadata": {
        "id": "exFBTLfA1pTr"
      },
      "execution_count": 27,
      "outputs": []
    },
    {
      "cell_type": "code",
      "source": [],
      "metadata": {
        "id": "zoUDfwqM2KuT"
      },
      "execution_count": null,
      "outputs": []
    }
  ]
}